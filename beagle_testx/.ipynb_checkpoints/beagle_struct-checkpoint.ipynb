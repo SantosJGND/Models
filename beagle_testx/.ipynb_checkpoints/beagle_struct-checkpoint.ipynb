{
 "cells": [
  {
   "cell_type": "code",
   "execution_count": 53,
   "metadata": {},
   "outputs": [],
   "source": [
    "import matplotlib.pyplot as plt\n"
   ]
  },
  {
   "cell_type": "code",
   "execution_count": 54,
   "metadata": {},
   "outputs": [],
   "source": [
    "import pandas as pd\n",
    "import numpy as np\n",
    "\n",
    "import plotly\n",
    "import plotly.graph_objs as go\n",
    "from plotly.offline import download_plotlyjs, init_notebook_mode, plot, iplot\n"
   ]
  },
  {
   "cell_type": "code",
   "execution_count": 60,
   "metadata": {},
   "outputs": [
    {
     "data": {
      "text/plain": [
       "(1, 2, 3)"
      ]
     },
     "execution_count": 60,
     "metadata": {},
     "output_type": "execute_result"
    }
   ],
   "source": [
    "t1= [\n",
    "    [0,1,0],\n",
    "    [1,0,0]\n",
    "]\n",
    "\n",
    "t2= [\n",
    "    [1,0,0],\n",
    "    [0,1,0]\n",
    "]\n",
    "\n",
    "t3= [\n",
    "    [1,0,0],\n",
    "    [0,1,0]\n",
    "]\n",
    "\n",
    "t4= [\n",
    "    [1,0,0],\n",
    "    [0,1,0]\n",
    "]\n",
    "\n",
    "\n",
    "vc_array= [t1]\n",
    "vc_array= np.array(vc_array)\n",
    "vc_array.shape"
   ]
  },
  {
   "cell_type": "code",
   "execution_count": 62,
   "metadata": {},
   "outputs": [
    {
     "data": {
      "text/plain": [
       "array([[0, 1, 0],\n",
       "       [1, 0, 0]])"
      ]
     },
     "execution_count": 62,
     "metadata": {},
     "output_type": "execute_result"
    }
   ],
   "source": [
    "phase= np.median(vc_array,axis= 0) \n",
    "final= np.random.binomial(1, phase)\n",
    "final\n"
   ]
  },
  {
   "cell_type": "code",
   "execution_count": 83,
   "metadata": {},
   "outputs": [
    {
     "data": {
      "text/plain": [
       "[(2, 4, 9),\n",
       " (0, 8, 11),\n",
       " (0, 4, 7),\n",
       " (7, 10, 11),\n",
       " (1, 3, 7),\n",
       " (6, 7, 11),\n",
       " (2, 4, 11),\n",
       " (6, 8, 9),\n",
       " (0, 6, 8),\n",
       " (3, 10, 11)]"
      ]
     },
     "execution_count": 83,
     "metadata": {},
     "output_type": "execute_result"
    }
   ],
   "source": [
    "proxy_range= list(range(12))\n",
    "idx= 2\n",
    "xrang= idx +1\n",
    "poss_combs= it.combinations(proxy_range,xrang)\n",
    "poss_combs= list(poss_combs)\n",
    "\n",
    "prox_idx= list(range(len(poss_combs)))\n",
    "prox_idx= np.random.choice(prox_idx,10)\n",
    "poss_combs= [poss_combs[x] for x in prox_idx]\n",
    "poss_combs"
   ]
  },
  {
   "cell_type": "code",
   "execution_count": 2,
   "metadata": {},
   "outputs": [
    {
     "data": {
      "text/html": [
       "<div>\n",
       "<style scoped>\n",
       "    .dataframe tbody tr th:only-of-type {\n",
       "        vertical-align: middle;\n",
       "    }\n",
       "\n",
       "    .dataframe tbody tr th {\n",
       "        vertical-align: top;\n",
       "    }\n",
       "\n",
       "    .dataframe thead th {\n",
       "        text-align: right;\n",
       "    }\n",
       "</style>\n",
       "<table border=\"1\" class=\"dataframe\">\n",
       "  <thead>\n",
       "    <tr style=\"text-align: right;\">\n",
       "      <th></th>\n",
       "      <th>file</th>\n",
       "      <th>nsamp</th>\n",
       "      <th>ndiffs</th>\n",
       "      <th>ncells</th>\n",
       "      <th>piT</th>\n",
       "      <th>piW</th>\n",
       "      <th>TajD</th>\n",
       "    </tr>\n",
       "  </thead>\n",
       "  <tbody>\n",
       "    <tr>\n",
       "      <th>0</th>\n",
       "      <td>./pm13_4a_1mC10.100119972/pm13_4a_1mC10.100119...</td>\n",
       "      <td>100</td>\n",
       "      <td>68224</td>\n",
       "      <td>4786600</td>\n",
       "      <td>1033.964925</td>\n",
       "      <td>1840.616897</td>\n",
       "      <td>-0.004734</td>\n",
       "    </tr>\n",
       "    <tr>\n",
       "      <th>1</th>\n",
       "      <td>./pm13_4a_1mC10.100119972/pm13_4a_1mC10.100119...</td>\n",
       "      <td>22</td>\n",
       "      <td>23320</td>\n",
       "      <td>1053052</td>\n",
       "      <td>1039.433404</td>\n",
       "      <td>1657.012020</td>\n",
       "      <td>-0.018293</td>\n",
       "    </tr>\n",
       "    <tr>\n",
       "      <th>2</th>\n",
       "      <td>./pm13_4a_1mC10.100119972/pm13_4a_1mC10.100119...</td>\n",
       "      <td>29</td>\n",
       "      <td>11784</td>\n",
       "      <td>1388114</td>\n",
       "      <td>429.820932</td>\n",
       "      <td>427.088865</td>\n",
       "      <td>0.000239</td>\n",
       "    </tr>\n",
       "    <tr>\n",
       "      <th>3</th>\n",
       "      <td>./gravel_1mC10.30832258/gravel_1mC10.30832258_...</td>\n",
       "      <td>100</td>\n",
       "      <td>21480</td>\n",
       "      <td>1832000</td>\n",
       "      <td>309.005427</td>\n",
       "      <td>497.868992</td>\n",
       "      <td>-0.004098</td>\n",
       "    </tr>\n",
       "    <tr>\n",
       "      <th>4</th>\n",
       "      <td>./gravel_1mC10.30832258/gravel_1mC10.30832258_...</td>\n",
       "      <td>33</td>\n",
       "      <td>8002</td>\n",
       "      <td>604560</td>\n",
       "      <td>243.127739</td>\n",
       "      <td>260.123625</td>\n",
       "      <td>-0.002142</td>\n",
       "    </tr>\n",
       "  </tbody>\n",
       "</table>\n",
       "</div>"
      ],
      "text/plain": [
       "                                                file  nsamp  ndiffs   ncells  \\\n",
       "0  ./pm13_4a_1mC10.100119972/pm13_4a_1mC10.100119...    100   68224  4786600   \n",
       "1  ./pm13_4a_1mC10.100119972/pm13_4a_1mC10.100119...     22   23320  1053052   \n",
       "2  ./pm13_4a_1mC10.100119972/pm13_4a_1mC10.100119...     29   11784  1388114   \n",
       "3  ./gravel_1mC10.30832258/gravel_1mC10.30832258_...    100   21480  1832000   \n",
       "4  ./gravel_1mC10.30832258/gravel_1mC10.30832258_...     33    8002   604560   \n",
       "\n",
       "           piT          piW      TajD  \n",
       "0  1033.964925  1840.616897 -0.004734  \n",
       "1  1039.433404  1657.012020 -0.018293  \n",
       "2   429.820932   427.088865  0.000239  \n",
       "3   309.005427   497.868992 -0.004098  \n",
       "4   243.127739   260.123625 -0.002142  "
      ]
     },
     "execution_count": 2,
     "metadata": {},
     "output_type": "execute_result"
    }
   ],
   "source": [
    "df= pd.read_csv('diffs_structstats_db.txt',sep= '\\t')\n",
    "df.head()"
   ]
  },
  {
   "cell_type": "code",
   "execution_count": 17,
   "metadata": {},
   "outputs": [],
   "source": [
    "from scipy.stats import gaussian_kde"
   ]
  },
  {
   "cell_type": "code",
   "execution_count": 20,
   "metadata": {},
   "outputs": [
    {
     "name": "stdout",
     "output_type": "stream",
     "text": [
      "(240, 7)\n",
      "19784.272696621694\n",
      "ref: 25, M: 25221 +--2147483648\n"
     ]
    },
    {
     "data": {
      "text/plain": [
       "[<matplotlib.lines.Line2D at 0x13329d90>]"
      ]
     },
     "execution_count": 20,
     "metadata": {},
     "output_type": "execute_result"
    },
    {
     "data": {
      "image/png": "[encoded data removed]",
      "text/plain": [
       "<Figure size 432x288 with 1 Axes>"
      ]
     },
     "metadata": {
      "needs_background": "light"
     },
     "output_type": "display_data"
    }
   ],
   "source": [
    "fact= 'ref'\n",
    "quick_parse= [x for x in range(len(factor)) if factor[x] == fact]\n",
    "\n",
    "test_df= df.iloc[quick_parse,:]\n",
    "print(test_df.shape)\n",
    "\n",
    "ndiffs= np.array(test_df.ndiffs,dtype= int)\n",
    "nsamp= np.array(test_df.nsamp,dtype= int)\n",
    "nsnps= np.array(test_df.ncells,dtype= int) \n",
    "\n",
    "tajD= np.array(test_df.TajD,dtype= float)\n",
    "piW= np.array(test_df.piW,dtype= float)\n",
    "piW= piW / 1e6\n",
    "\n",
    "conv_pi= piW / 4 / 1e-8\n",
    "print(np.mean(conv_pi))\n",
    "\n",
    "nsnps= nsnps / nsamp\n",
    "nsnps\n",
    "print('{}: {}, M: {} +-{}'.format(fact,len(list(set(test_df.file))),np.mean(np.unique(nsnps),dtype=int),np.std(np.unique(nsnps),dtype=int)))\n",
    "diffsp= ndiffs / 2 / nsamp / nsnps\n",
    "\n",
    "diff_dict= {\n",
    "    z:[diffsp[x] for x in range(test_df.shape[0]) if nsamp[x] == z] for z in list(set(nsamp))\n",
    "}\n",
    "\n",
    "X= sorted(diff_dict.keys())\n",
    "Y= [np.mean(diff_dict[z])*100 for z in X]\n",
    "error= [np.std(diff_dict[z])*100 for z in X]\n",
    "\n",
    "\n"
   ]
  },
  {
   "cell_type": "code",
   "execution_count": 13,
   "metadata": {},
   "outputs": [
    {
     "data": {
      "text/plain": [
       "[0.6570458748139784]"
      ]
     },
     "execution_count": 13,
     "metadata": {},
     "output_type": "execute_result"
    }
   ],
   "source": [
    "Y"
   ]
  },
  {
   "cell_type": "code",
   "execution_count": 15,
   "metadata": {
    "scrolled": false
   },
   "outputs": [
    {
     "name": "stdout",
     "output_type": "stream",
     "text": [
      "(240, 7)\n",
      "19784.272696621694\n",
      "ref: 25, M: 25221 +--2147483648\n",
      "(776, 7)\n",
      "12265.785821450489\n",
      "pop: 81, M: 25221 +--2147483648\n"
     ]
    },
    {
     "data": {
      "image/png": "[encoded data removed]",
      "text/plain": [
       "<Figure size 720x576 with 1 Axes>"
      ]
     },
     "metadata": {
      "needs_background": "light"
     },
     "output_type": "display_data"
    }
   ],
   "source": [
    "factor= list(df.file)\n",
    "factor= [int('pop' in x) for x in factor]\n",
    "factor= [['ref','pop'][x] for x in factor]\n",
    "\n",
    "figname= 'struct_error.pdf'\n",
    "width= 10\n",
    "height= 8\n",
    "plt.figure(figsize=(width, height))\n",
    "\n",
    "data_struct= []\n",
    "labels= []\n",
    "\n",
    "for fact in list(set(factor)):\n",
    "    quick_parse= [x for x in range(len(factor)) if factor[x] == fact]\n",
    "    \n",
    "    test_df= df.iloc[quick_parse,:]\n",
    "    print(test_df.shape)\n",
    "    \n",
    "    ndiffs= np.array(test_df.ndiffs,dtype= int)\n",
    "    nsamp= np.array(test_df.nsamp,dtype= int)\n",
    "    nsnps= np.array(test_df.ncells,dtype= int) \n",
    "    \n",
    "    tajD= np.array(test_df.TajD,dtype= float)\n",
    "    piW= np.array(test_df.piW,dtype= float)\n",
    "    piW= piW / 1e6\n",
    "    \n",
    "    conv_pi= piW / 4 / 1e-8\n",
    "    print(np.mean(conv_pi))\n",
    "    \n",
    "    nsnps= nsnps / nsamp\n",
    "    nsnps\n",
    "    print('{}: {}, M: {} +-{}'.format(fact,len(list(set(test_df.file))),np.mean(np.unique(nsnps),dtype=int),np.std(np.unique(nsnps),dtype=int)))\n",
    "    diffsp= ndiffs / 2 / nsamp / nsnps\n",
    "    \n",
    "    diff_dict= {\n",
    "        z:[diffsp[x] for x in range(test_df.shape[0]) if nsamp[x] == z] for z in list(set(nsamp))\n",
    "    }\n",
    "    \n",
    "    X= sorted(diff_dict.keys())\n",
    "    Y= [np.mean(diff_dict[z])*100 for z in X]\n",
    "    error= [np.std(diff_dict[z])*100 for z in X]\n",
    "    \n",
    "    labels.append(fact)\n",
    "    data_struct.append(diffsp)\n",
    "    \n",
    "\n",
    "plt.boxplot(data_struct,labels= labels)\n",
    "\n",
    "\n",
    "#plt.legend(loc= 'lower right')\n",
    "plt.ylabel('error %',fontsize= 20)\n",
    "plt.xlabel('Nsamp',fontsize= 20)\n",
    "#plt.ylim(0,3.5)\n",
    "plt.xticks(fontsize=15)\n",
    "plt.yticks(fontsize=15)\n",
    "#plt.title('burnin: {}; r: {}'.format(burnin, rate))\n",
    "\n",
    "plt.savefig(figname)\n",
    "plt.show()\n",
    "plt.close()\n"
   ]
  },
  {
   "cell_type": "code",
   "execution_count": 21,
   "metadata": {},
   "outputs": [
    {
     "name": "stdout",
     "output_type": "stream",
     "text": [
      "(240, 7)\n",
      "19784.272696621694\n",
      "ref: 25, M: 25221 +--2147483648\n",
      "(776, 7)\n",
      "12265.785821450489\n",
      "pop: 81, M: 25221 +--2147483648\n"
     ]
    },
    {
     "data": {
      "image/png": "[encoded data removed]",
      "text/plain": [
       "<Figure size 720x576 with 1 Axes>"
      ]
     },
     "metadata": {
      "needs_background": "light"
     },
     "output_type": "display_data"
    }
   ],
   "source": [
    "factor= list(df.file)\n",
    "factor= [int('pop' in x) for x in factor]\n",
    "factor= [['ref','pop'][x] for x in factor]\n",
    "\n",
    "figname= 'struct_error.pdf'\n",
    "width= 10\n",
    "height= 8\n",
    "plt.figure(figsize=(width, height))\n",
    "\n",
    "data_struct= []\n",
    "labels= []\n",
    "\n",
    "for fact in list(set(factor)):\n",
    "    quick_parse= [x for x in range(len(factor)) if factor[x] == fact]\n",
    "    \n",
    "    test_df= df.iloc[quick_parse,:]\n",
    "    print(test_df.shape)\n",
    "    \n",
    "    ndiffs= np.array(test_df.ndiffs,dtype= int)\n",
    "    nsamp= np.array(test_df.nsamp,dtype= int)\n",
    "    nsnps= np.array(test_df.ncells,dtype= int) \n",
    "    \n",
    "    tajD= np.array(test_df.TajD,dtype= float)\n",
    "    piW= np.array(test_df.piW,dtype= float)\n",
    "    piW= piW / 1e6\n",
    "    \n",
    "    conv_pi= piW / 4 / 1e-8\n",
    "    print(np.mean(conv_pi))\n",
    "    \n",
    "    nsnps= nsnps / nsamp\n",
    "    nsnps\n",
    "    print('{}: {}, M: {} +-{}'.format(fact,len(list(set(test_df.file))),np.mean(np.unique(nsnps),dtype=int),np.std(np.unique(nsnps),dtype=int)))\n",
    "    diffsp= ndiffs / 2 / nsamp / nsnps\n",
    "    \n",
    "    diff_dict= {\n",
    "        z:[diffsp[x] for x in range(test_df.shape[0]) if nsamp[x] == z] for z in list(set(nsamp))\n",
    "    }\n",
    "    \n",
    "    X= sorted(diff_dict.keys())\n",
    "    Y= [np.mean(diff_dict[z])*100 for z in X]\n",
    "    error= [np.std(diff_dict[z])*100 for z in X]\n",
    "    \n",
    "    labels.append(fact)\n",
    "    data_struct.append(diffsp)\n",
    "\n",
    "    density = gaussian_kde(diffsp)\n",
    "    xs = np.linspace(0,2*np.mean(diffsp),200)\n",
    "    density.covariance_factor = lambda : .25\n",
    "    density._compute_covariance()\n",
    "    plt.plot(xs,density(xs))\n",
    "\n",
    "#plt.legend(loc= 'lower right')\n",
    "plt.ylabel('error %',fontsize= 20)\n",
    "plt.xlabel('Nsamp',fontsize= 20)\n",
    "#plt.ylim(0,3.5)\n",
    "plt.xticks(fontsize=15)\n",
    "plt.yticks(fontsize=15)\n",
    "#plt.title('burnin: {}; r: {}'.format(burnin, rate))\n",
    "\n",
    "plt.savefig(figname)\n",
    "plt.show()\n",
    "plt.close()\n"
   ]
  },
  {
   "cell_type": "code",
   "execution_count": null,
   "metadata": {},
   "outputs": [],
   "source": []
  }
 ],
 "metadata": {
  "kernelspec": {
   "display_name": "Python 3",
   "language": "python",
   "name": "python3"
  },
  "language_info": {
   "codemirror_mode": {
    "name": "ipython",
    "version": 3
   },
   "file_extension": ".py",
   "mimetype": "text/x-python",
   "name": "python",
   "nbconvert_exporter": "python",
   "pygments_lexer": "ipython3",
   "version": "3.7.3"
  }
 },
 "nbformat": 4,
 "nbformat_minor": 2
}
