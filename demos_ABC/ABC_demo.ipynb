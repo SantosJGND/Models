{
 "cells": [
  {
   "cell_type": "code",
   "execution_count": 1,
   "metadata": {},
   "outputs": [],
   "source": [
    "import numpy as np\n",
    "import itertools as it\n",
    "import os\n",
    "\n",
    "import collections\n",
    "def recursively_default_dict():\n",
    "    return collections.defaultdict(recursively_default_dict)"
   ]
  },
  {
   "cell_type": "markdown",
   "metadata": {},
   "source": [
    "## Demography simulations\n",
    "\n",
    "> adapt demographic information in written format to SLiM recipe.\n",
    "\n"
   ]
  },
  {
   "cell_type": "markdown",
   "metadata": {},
   "source": [
    "## Files\n",
    "\n",
    "Files used for this simulation.\n",
    "\n",
    "**necessary input**\n",
    "\n",
    "- Table of demographic information. Very sensitive to formatting. \n",
    "> [demos file](https://github.com/SantosJGND/SLiM/blob/master/demos_ABC/demos/PM2013_M4A.txt)\n",
    "   \n",
    "- template recipe, initialize() block.\n",
    "> [template](https://github.com/SantosJGND/SLiM/blob/master/demos_ABC/Recipes/demos_mat/template_matVar.slim)\n",
    "\n",
    "**final product**\n",
    "- [Recipes/demos_mat/M4A0.slim](https://github.com/SantosJGND/SLiM/blob/master/demos_ABC/Recipes/demos_mat/M4A0.slim)\n"
   ]
  },
  {
   "cell_type": "code",
   "execution_count": 2,
   "metadata": {},
   "outputs": [
    {
     "name": "stdout",
     "output_type": "stream",
     "text": [
      "[10543  1234 71162]\n",
      "['Recipes/demos_mat/M4A0.slim', 'Recipes/demos_mat/M4A1.slim', 'Recipes/demos_mat/M4A2.slim', 'Recipes/demos_mat/M4A3.slim', 'Recipes/demos_mat/M4A4.slim']\n"
     ]
    }
   ],
   "source": [
    "\n",
    "from tools.ABC_utilities import read_demofile, demos_to_SLiM\n",
    "\n",
    "\n",
    "def demo_to_recipe(demo_file,template,batch= 'test',anc_r= '0',Nsamp= 5,sizes= 500, burnin= 5e4, recipe_dir= 'Recipes/demos_mat/'):\n",
    "    \n",
    "    tree, demo_data= read_demofile(demo_file)\n",
    "    #print(demo_data['N'])\n",
    "    pops, files= demos_to_SLiM(batch, template,tree, demo_data, anc_r= anc_r, Nsamp= Nsamp, sizes= sizes, burnin= burnin,\n",
    "                                                    size_key= '\\t{}.setSubpopulationSize({});\\n',\n",
    "                                                    mig_key= '{}.setMigrationRates(c({}), c({}));\\n',\n",
    "                                                    create_key= 'sim.addSubpopSplit(\"{}\", {}, {});\\n')\n",
    "    \n",
    "    \n",
    "    return pops, files\n",
    "\n",
    "\n",
    "\n",
    "batch= 'M4A'\n",
    "recipe_dir= 'Recipes/demos_mat/'\n",
    "\n",
    "\n",
    "demo_file= 'demos/PM2013_M3.txt'\n",
    "template= 'Recipes/demos_mat/template_matVar.slim'\n",
    "\n",
    "anc_r= '0'\n",
    "Nsamp= 5\n",
    "sizes= 500\n",
    "burnin= 5e4\n",
    "\n",
    "\n",
    "pops,files= demo_to_recipe(demo_file, template,batch= batch,anc_r= anc_r,Nsamp= Nsamp, recipe_dir=recipe_dir)\n",
    "\n",
    "\n",
    "print(files)"
   ]
  },
  {
   "cell_type": "markdown",
   "metadata": {},
   "source": [
    "### Functions of interest.\n",
    "\n",
    "### I. Sampling.\n",
    "\n",
    "Currently using sample_dist_beta. This function makes use of the median and confidence interval to determine the skew in the proposed distribution, uses the beta distribution to try to emulate this skew. "
   ]
  },
  {
   "cell_type": "code",
   "execution_count": 10,
   "metadata": {},
   "outputs": [],
   "source": [
    "from scipy.stats import norm\n",
    "\n",
    "def sample_dist(nsample,median,ll_cl,up_cl,assume='norm',func= '',func_args= [3],source= 0):\n",
    "    '''\n",
    "    determine mean and sd from UP-CL 95%.\n",
    "    sample using scipy.\n",
    "    '''\n",
    "    \n",
    "    mean_s= (ll_cl+up_cl) / 2\n",
    "    sd_s= (up_cl - mean_s) / 2\n",
    "    \n",
    "    t= norm.rvs(loc=mean_s,scale= sd_s,size= nsample)\n",
    "    if func:\n",
    "        t= [func(x,*func_args) for x in t]\n",
    "    \n",
    "    return t\n",
    "\n",
    "\n",
    "from scipy.stats import beta\n",
    "\n",
    "\n",
    "\n",
    "def sample_dist_beta(nsample,median,ll_cl,up_cl,blur= 8,assume='norm',func= '',func_args= [3],source= 0):\n",
    "    '''\n",
    "    Use beta distribution to add skew.\n",
    "    '''\n",
    "    \n",
    "    mean_s= (ll_cl+up_cl) / 2\n",
    "    window= up_cl - ll_cl\n",
    "    sd_s= (window) / 2\n",
    "    \n",
    "    rate= (median - ll_cl) / window\n",
    "    t= np.pi / 2\n",
    "\n",
    "    a= np.sin(rate * t) * blur\n",
    "    b= np.cos(rate * t) * blur\n",
    "    \n",
    "    t= beta.rvs(a, b, size=nsample)\n",
    "    \n",
    "    if not source:\n",
    "        t= t * window + ll_cl\n",
    "    \n",
    "    if func:\n",
    "        t= [func(x,*func_args) for x in t]\n",
    "    \n",
    "    return t\n"
   ]
  },
  {
   "cell_type": "markdown",
   "metadata": {},
   "source": [
    "### II. Initialize and sampling blocks\n",
    "\n",
    "The content of these functions deterlines how samples are extracted as well as the initial blocks. "
   ]
  },
  {
   "cell_type": "code",
   "execution_count": 4,
   "metadata": {},
   "outputs": [],
   "source": [
    "def ancestral_initialize(anc_name= 'p1',anc_size= 20000,return_list= True):\n",
    "    anc_intro= '''\n",
    "    sim.addSubpop(\"{}\", {});\n",
    "    c = sim.chromosome;\n",
    "    catn(\"Ancestral: \" + paste(c.ancestralNucleotides(format=\"char\")[0:20],sep=\"\"));\n",
    "    catn();\\n'''\n",
    "    \n",
    "    anc_intro= anc_intro.format(anc_name,str(anc_size))\n",
    "    \n",
    "    anc_intro= \"\"\"1 {\\n\"\"\" + anc_intro  + \"\"\"}\\n\"\"\"\n",
    "    \n",
    "    if return_list:\n",
    "        anc_intro= anc_intro.split('\\n')\n",
    "        anc_intro= [x + '\\n' for x in anc_intro]\n",
    "        \n",
    "    return anc_intro\n",
    "\n",
    "\n",
    "def sample_block(gen= 60000,pops= ['p1','p2'],sizes= [500,500]):\n",
    "    pops= ','.join(pops)\n",
    "    sizes= ','.join([str(x) for x in sizes])\n",
    "    \n",
    "    sample_simple= \"\"\"\n",
    "    g = c();\n",
    "    pops= c({});\n",
    "    samples= c({});\n",
    "    for (x in pops) \n",
    "        g= c(g, sim.subpopulations[x].sampleIndividuals(samples[x]).genomes);\n",
    "\n",
    "    g.outputVCF(vcf_file,simplifyNucleotides=T);\n",
    "    \"\"\"\n",
    "    \n",
    "    sample_simple= sample_simple.format(pops,sizes)\n",
    "    sample_simple= \"\"\"{} late() \"\"\".format(gen) + \"\"\"{\\n\"\"\" + sample_simple\n",
    "    sample_simple= sample_simple.split('\\n')\n",
    "    sample_simple= [x + '\\n' for x in sample_simple]\n",
    "    sample_simple.append( \"\"\"}\\n\"\"\")\n",
    "    \n",
    "    return sample_simple\n"
   ]
  },
  {
   "cell_type": "code",
   "execution_count": null,
   "metadata": {},
   "outputs": [],
   "source": []
  }
 ],
 "metadata": {
  "kernelspec": {
   "display_name": "Python 3",
   "language": "python",
   "name": "python3"
  },
  "language_info": {
   "codemirror_mode": {
    "name": "ipython",
    "version": 3
   },
   "file_extension": ".py",
   "mimetype": "text/x-python",
   "name": "python",
   "nbconvert_exporter": "python",
   "pygments_lexer": "ipython3",
   "version": "3.6.9"
  }
 },
 "nbformat": 4,
 "nbformat_minor": 2
}
